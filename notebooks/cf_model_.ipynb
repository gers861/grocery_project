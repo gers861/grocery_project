{
 "cells": [
  {
   "cell_type": "code",
   "execution_count": 3,
   "id": "18d48dee-b5f2-47b4-a774-5ff09f671a05",
   "metadata": {},
   "outputs": [
    {
     "name": "stdout",
     "output_type": "stream",
     "text": [
      "Computing the msd similarity matrix...\n",
      "Done computing similarity matrix.\n",
      "RMSE: 0.0000\n"
     ]
    },
    {
     "data": {
      "text/plain": [
       "0.0"
      ]
     },
     "execution_count": 3,
     "metadata": {},
     "output_type": "execute_result"
    }
   ],
   "source": [
    "import pandas as pd\n",
    "from surprise import Dataset, Reader, KNNBasic\n",
    "from surprise.model_selection import train_test_split\n",
    "from surprise.accuracy import rmse\n",
    "from collections import defaultdict\n",
    "\n",
    "# Load your cleaned data\n",
    "df = pd.read_csv('../data/Groceries_cleaned_dataset2.csv')\n",
    "\n",
    "# Add a rating column with value 1 for implicit feedback\n",
    "df['rating'] = 1\n",
    "\n",
    "# Define the reader with rating scale (1,1) since all ratings are 1\n",
    "reader = Reader(rating_scale=(1, 1))\n",
    "\n",
    "# Load dataset for surprise: only user id, item id, and rating columns\n",
    "data = Dataset.load_from_df(df[['Member_number', 'itemDescription', 'rating']], reader)\n",
    "\n",
    "# Now you can split data and train your model as usual\n",
    "trainset, testset = train_test_split(data, test_size=0.25)\n",
    "\n",
    "# Use KNNBasic for user-based collaborative filtering example\n",
    "algo = KNNBasic(sim_options={'user_based': True})\n",
    "\n",
    "# Train the algorithm\n",
    "algo.fit(trainset)\n",
    "\n",
    "# Test the algorithm\n",
    "predictions = algo.test(testset)\n",
    "\n",
    "# Compute RMSE on the test set\n",
    "rmse(predictions)\n"
   ]
  },
  {
   "cell_type": "code",
   "execution_count": null,
   "id": "16f70fbc-27fe-4880-8041-5d8bb3bb80da",
   "metadata": {},
   "outputs": [],
   "source": []
  },
  {
   "cell_type": "code",
   "execution_count": null,
   "id": "355ba419-e3a6-4a21-9076-42ee3dfe8039",
   "metadata": {},
   "outputs": [],
   "source": []
  },
  {
   "cell_type": "code",
   "execution_count": null,
   "id": "cd350ba3-f6b6-4bd8-85c6-744b4b8f011f",
   "metadata": {},
   "outputs": [],
   "source": []
  },
  {
   "cell_type": "code",
   "execution_count": null,
   "id": "bbbbb98d-4a2b-407a-a370-d92df26a2773",
   "metadata": {},
   "outputs": [],
   "source": []
  },
  {
   "cell_type": "code",
   "execution_count": null,
   "id": "61ffdb65-4b08-4092-8e9a-387c8643fc10",
   "metadata": {},
   "outputs": [],
   "source": []
  }
 ],
 "metadata": {
  "kernelspec": {
   "display_name": "Python (venv310)",
   "language": "python",
   "name": "venv310"
  },
  "language_info": {
   "codemirror_mode": {
    "name": "ipython",
    "version": 3
   },
   "file_extension": ".py",
   "mimetype": "text/x-python",
   "name": "python",
   "nbconvert_exporter": "python",
   "pygments_lexer": "ipython3",
   "version": "3.10.10"
  }
 },
 "nbformat": 4,
 "nbformat_minor": 5
}
